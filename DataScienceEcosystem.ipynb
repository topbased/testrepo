{
 "cells": [
  {
   "cell_type": "markdown",
   "id": "e43ee410",
   "metadata": {},
   "source": [
    "# Data Science Tools and Ecosystems"
   ]
  },
  {
   "cell_type": "code",
   "execution_count": null,
   "id": "046521b9",
   "metadata": {},
   "outputs": [],
   "source": [
    "# Introduction text: In this notebook, Data Science Tools and Ecosystems are summarized\n"
   ]
  },
  {
   "cell_type": "markdown",
   "id": "29679a60",
   "metadata": {},
   "source": [
    "**In this notebook, Data Science Tools and Ecosystems are summarized**"
   ]
  },
  {
   "cell_type": "code",
   "execution_count": null,
   "id": "5cba2620",
   "metadata": {},
   "outputs": [],
   "source": [
    "# Objectives"
   ]
  },
  {
   "cell_type": "markdown",
   "id": "b8904e5f",
   "metadata": {},
   "source": [
    "**Objectives:**\n",
    "\n",
    " **.** List Data Science Libraries.\n",
    "\n",
    " **.** List Data Science Languages.\n",
    "\n",
    " **.** Create table of Data Science Tools.\n",
    " \n",
    " **.** List Arithmetic Expressions examples.\n"
   ]
  },
  {
   "cell_type": "code",
   "execution_count": null,
   "id": "23b22e49",
   "metadata": {},
   "outputs": [],
   "source": [
    "# List Data Science Languages "
   ]
  },
  {
   "cell_type": "markdown",
   "id": "c5b18361",
   "metadata": {},
   "source": [
    "**Some of the popular languages data scientist use are:**\n",
    "\n",
    "**1 . Python**\n",
    "\n",
    "**2 . Scala**\n",
    "\n",
    "**3 . SQL**\n",
    "\n",
    "**4 . Julia**\n",
    "\n",
    "**5 . Ruby**\n",
    "\n",
    "**6 . R**"
   ]
  },
  {
   "cell_type": "code",
   "execution_count": null,
   "id": "72c39e98",
   "metadata": {},
   "outputs": [],
   "source": [
    "# List Data Science Libraries"
   ]
  },
  {
   "cell_type": "markdown",
   "id": "8a234ff3",
   "metadata": {},
   "source": [
    "**Some of the commonly used libraries used by Data Scientists include:**\n",
    "\n",
    "**1 . Panda**\n",
    "\n",
    "**2 . Numpy**\n",
    "\n",
    "**3 . Matplotlib**\n",
    "\n",
    "**4 . SciPy**\n",
    "\n",
    "**5 . TensorFlow**\n",
    "\n",
    "**6 . SciKit-Learn**\n"
   ]
  },
  {
   "cell_type": "code",
   "execution_count": null,
   "id": "7f8dcb77",
   "metadata": {},
   "outputs": [],
   "source": [
    "# Table of Data Science Tools"
   ]
  },
  {
   "cell_type": "markdown",
   "id": "025d131a",
   "metadata": {},
   "source": [
    "|Data Science Tools|\n",
    "|-------------------|\n",
    "|Jupyter Notebook|\n",
    "|R Studio|\n",
    "|Zeppelin Notebook|"
   ]
  },
  {
   "cell_type": "code",
   "execution_count": null,
   "id": "2640fbd5",
   "metadata": {},
   "outputs": [],
   "source": [
    "# Introducing Arithmetic Expression examples"
   ]
  },
  {
   "cell_type": "markdown",
   "id": "c45ee0bc",
   "metadata": {},
   "source": [
    "### Below are a few examples of evaluating arithmetic expressions in python:\n",
    "\n",
    "(9+8) = 17 #addition of two numbers\n",
    "\n",
    "(9-8) = 1  #substraction of two numbers\n",
    "\n",
    "(9*8) = 72  #multiplication of two numbers\n",
    " \n",
    "(9/8) = 1.125 #division of two numbers\n",
    "\n",
    "\n"
   ]
  },
  {
   "cell_type": "code",
   "execution_count": null,
   "id": "c024c805",
   "metadata": {},
   "outputs": [],
   "source": [
    "# Multiply and add numbers"
   ]
  },
  {
   "cell_type": "code",
   "execution_count": 2,
   "id": "1fb4a05a",
   "metadata": {},
   "outputs": [
    {
     "data": {
      "text/plain": [
       "17"
      ]
     },
     "execution_count": 2,
     "metadata": {},
     "output_type": "execute_result"
    }
   ],
   "source": [
    "(3*4)+5     #This is a simple arithmetic expression to multiply then add integers"
   ]
  },
  {
   "cell_type": "code",
   "execution_count": null,
   "id": "01012408",
   "metadata": {},
   "outputs": [],
   "source": [
    "# Convert minutes to hours"
   ]
  },
  {
   "cell_type": "code",
   "execution_count": 6,
   "id": "83e82dfe",
   "metadata": {},
   "outputs": [
    {
     "data": {
      "text/plain": [
       "3.3333333333333335"
      ]
     },
     "execution_count": 6,
     "metadata": {},
     "output_type": "execute_result"
    }
   ],
   "source": [
    "# This will convert 200 minutes to hours by dividing by 60\n",
    "(200/60)"
   ]
  },
  {
   "cell_type": "code",
   "execution_count": null,
   "id": "0c1447cb",
   "metadata": {},
   "outputs": [],
   "source": [
    "# Indicate author's name"
   ]
  },
  {
   "cell_type": "markdown",
   "id": "37addca8",
   "metadata": {},
   "source": [
    "## Author\n",
    "Rahul"
   ]
  },
  {
   "cell_type": "code",
   "execution_count": null,
   "id": "e0e02eb6",
   "metadata": {},
   "outputs": [],
   "source": []
  }
 ],
 "metadata": {
  "kernelspec": {
   "display_name": "Python 3 (ipykernel)",
   "language": "python",
   "name": "python3"
  },
  "language_info": {
   "codemirror_mode": {
    "name": "ipython",
    "version": 3
   },
   "file_extension": ".py",
   "mimetype": "text/x-python",
   "name": "python",
   "nbconvert_exporter": "python",
   "pygments_lexer": "ipython3",
   "version": "3.9.13"
  }
 },
 "nbformat": 4,
 "nbformat_minor": 5
}
